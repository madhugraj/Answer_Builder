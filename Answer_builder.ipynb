{
 "cells": [
  {
   "cell_type": "code",
   "execution_count": null,
   "metadata": {},
   "outputs": [],
   "source": [
    "import re\n",
    "import PyPDF2 "
   ]
  },
  {
   "cell_type": "code",
   "execution_count": null,
   "metadata": {},
   "outputs": [],
   "source": [
    "pdfFileObj = open('Financial Procedures - Cash & Banking Procedures.pdf', 'rb') \n",
    "pdfReader = PyPDF2.PdfFileReader(pdfFileObj)\n",
    "print(pdfReader.numPages) "
   ]
  },
  {
   "cell_type": "code",
   "execution_count": null,
   "metadata": {},
   "outputs": [],
   "source": [
    "pageObj = pdfReader.getPage(5) \n",
    "print(pageObj.extractText()) "
   ]
  },
  {
   "cell_type": "code",
   "execution_count": null,
   "metadata": {},
   "outputs": [],
   "source": [
    "g = input(\"Enter the topic: \") "
   ]
  },
  {
   "cell_type": "code",
   "execution_count": null,
   "metadata": {},
   "outputs": [],
   "source": [
    "print(g)\n",
    "f = open(\"keywords.txt\", \"w\")\n",
    "f.write(g)\n",
    "\n"
   ]
  },
  {
   "cell_type": "markdown",
   "metadata": {},
   "source": [
    "batRegex = re.compile(g) \n",
    "mo1 = batRegex.search(pdfReader) \n"
   ]
  },
  {
   "cell_type": "code",
   "execution_count": null,
   "metadata": {},
   "outputs": [],
   "source": [
    "search_word = g.lower()\n",
    "search_word_count = 0\n",
    "number_of_pages = pdfReader.numPages\n",
    "\n",
    "for pageNum in range(1, pdfReader.numPages):\n",
    "    pageObj = pdfReader.getPage(pageNum)\n",
    "    text = pageObj.extractText().encode('utf-8')\n",
    "    search_text = text.lower().split()\n",
    "    for word in search_text:\n",
    "        if search_word in word.decode(\"utf-8\"):\n",
    "            search_word_count += 1\n",
    "#f.write(str(pages_text))\n",
    "#print(pages_text)        \n",
    "print(\"The word {} was found {} times\".format(search_word, search_word_count))"
   ]
  },
  {
   "cell_type": "code",
   "execution_count": null,
   "metadata": {},
   "outputs": [],
   "source": [
    "number_of_pages = pdfReader.numPages\n",
    "print(g)\n",
    "\n",
    "for page in range(number_of_pages):\n",
    "    pageObj = pdfReader.getPage(page)\n",
    "    pages_text = pageObj.extractText()\n",
    "    for line in pages_text:\n",
    "        print(line)\n",
    "    #print(pages_text)\n",
    " "
   ]
  },
  {
   "cell_type": "code",
   "execution_count": null,
   "metadata": {},
   "outputs": [],
   "source": [
    "g =\"Receipt of cash \"\n",
    "\n",
    "with open('output.txt', encoding='utf-8') as f:\n",
    "    for line in f:\n",
    "        line = line.strip()\n",
    "        if re.search(g.lower(), line.lower()):\n",
    "            print(\"line:\",line)\n",
    "            if re.match('\\d*\\.?\\d+',line.lower()):\n",
    "                print(line)"
   ]
  },
  {
   "cell_type": "code",
   "execution_count": null,
   "metadata": {},
   "outputs": [],
   "source": [
    "g =\"1.1 Receipt of cash \"\n",
    "with open('output.txt', encoding='utf-8') as f:\n",
    "    txt=f.read()\n",
    "\n",
    "for m in re.finditer(g.lower(), txt.lower(), re.M):\n",
    "    print(txt)"
   ]
  },
  {
   "cell_type": "code",
   "execution_count": null,
   "metadata": {},
   "outputs": [],
   "source": []
  }
 ],
 "metadata": {
  "kernelspec": {
   "display_name": "Python 3",
   "language": "python",
   "name": "python3"
  },
  "language_info": {
   "codemirror_mode": {
    "name": "ipython",
    "version": 3
   },
   "file_extension": ".py",
   "mimetype": "text/x-python",
   "name": "python",
   "nbconvert_exporter": "python",
   "pygments_lexer": "ipython3",
   "version": "3.6.5"
  }
 },
 "nbformat": 4,
 "nbformat_minor": 2
}
